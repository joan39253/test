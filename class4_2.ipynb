{
  "nbformat": 4,
  "nbformat_minor": 0,
  "metadata": {
    "colab": {
      "name": "class4_2",
      "provenance": [],
      "authorship_tag": "ABX9TyPk/usrbFDGPJWQKrmG18iW",
      "include_colab_link": true
    },
    "kernelspec": {
      "name": "python3",
      "display_name": "Python 3"
    },
    "language_info": {
      "name": "python"
    }
  },
  "cells": [
    {
      "cell_type": "markdown",
      "metadata": {
        "id": "view-in-github",
        "colab_type": "text"
      },
      "source": [
        "<a href=\"https://colab.research.google.com/github/joan39253/test/blob/main/class4_2.ipynb\" target=\"_parent\"><img src=\"https://colab.research.google.com/assets/colab-badge.svg\" alt=\"Open In Colab\"/></a>"
      ]
    },
    {
      "cell_type": "code",
      "execution_count": null,
      "metadata": {
        "id": "pEF4eWkZ1vAJ"
      },
      "outputs": [],
      "source": [
        "class Character:\n",
        "  def __init__(self, _name, _gender, _weapon=\"bat\"):\n",
        "    self.lv=1\n",
        "    self.exp=0\n",
        "    self.n=_name\n",
        "    self.g=_gender\n",
        "    self.w=_weapon\n",
        "    print(\"This is Character class\")\n",
        "  def __str__(self):\n",
        "    return f\"NAME: {self.n}, GENDER: {self.g}, WEAPON: {self.w}, LEVEL: {self.lv}, EXP: {self.exp}\"\n",
        "\n",
        "  def attack(self, enemy):\n",
        "    self.exp+=40\n",
        "    enemy.hp-=1\n",
        "    self.level_up()\n",
        "    print(f\"{self.n} attacked! LEVEL: {self.n}, EXP: {self.exp}\")\n",
        "  def level_up(self):\n",
        "    if self.exp>=100:\n",
        "      self.lv+=1\n",
        "      self.exp-=100\n",
        "      print(f\"{self.n} Level up!\")"
      ]
    },
    {
      "cell_type": "code",
      "source": [
        "#inherit\n",
        "class Warrior(Character):\n",
        "  def __init__(self, _name, _gender, _weapon=\"bat\"):\n",
        "    super().__init__(_name, _gender, _weapon)\n",
        "    self.sp=100\n",
        "    print(\"This is Warrior class\")\n",
        "  #繼承Character的attack再加東西\n",
        "  def attack(self, enemy):\n",
        "    super().attack(enemy)\n",
        "    print(\"warrior attack\") "
      ],
      "metadata": {
        "id": "hwEEftnQ1yHG"
      },
      "execution_count": null,
      "outputs": []
    },
    {
      "cell_type": "code",
      "source": [
        "class Magician(Character):\n",
        "  def __init__(self, _name, _gender, _weapon=\"bat\"):\n",
        "    super().__init__(_name, _gender, _weapon)\n",
        "    self.mp=100\n",
        "    print(\"This is Magician class\")"
      ],
      "metadata": {
        "id": "QyzMeL_52vMg"
      },
      "execution_count": null,
      "outputs": []
    },
    {
      "cell_type": "code",
      "source": [
        "class Enemy:\n",
        "  def __init__(self):\n",
        "    self.name=\"Monster\"\n",
        "    self.hp=100"
      ],
      "metadata": {
        "id": "uBdgZyt23Sy3"
      },
      "execution_count": null,
      "outputs": []
    },
    {
      "cell_type": "code",
      "source": [
        "w1=Warrior(\"Joanne\", \"female\", \"sword\")\n",
        "m1=Magician(\"Henry\", \"male\", \"dick\")\n",
        "e=Enemy()\n",
        "for i in range(5):\n",
        "  w1.attack(e)\n",
        "print(e.hp)"
      ],
      "metadata": {
        "colab": {
          "base_uri": "https://localhost:8080/"
        },
        "id": "ikGnJPXR11vq",
        "outputId": "4ab15969-f793-4699-8def-4cf48cc4d70f"
      },
      "execution_count": null,
      "outputs": [
        {
          "output_type": "stream",
          "name": "stdout",
          "text": [
            "This is Character class\n",
            "This is Warrior class\n",
            "This is Character class\n",
            "This is Magician class\n",
            "Joanne attacked! LEVEL: Joanne, EXP: 40\n",
            "warrior attack\n",
            "Joanne attacked! LEVEL: Joanne, EXP: 80\n",
            "warrior attack\n",
            "Joanne Level up!\n",
            "Joanne attacked! LEVEL: Joanne, EXP: 20\n",
            "warrior attack\n",
            "Joanne attacked! LEVEL: Joanne, EXP: 60\n",
            "warrior attack\n",
            "Joanne Level up!\n",
            "Joanne attacked! LEVEL: Joanne, EXP: 0\n",
            "warrior attack\n",
            "95\n"
          ]
        }
      ]
    }
  ]
}